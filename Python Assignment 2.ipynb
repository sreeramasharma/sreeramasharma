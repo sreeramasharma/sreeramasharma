{
 "cells": [
  {
   "cell_type": "markdown",
   "id": "9f00065e",
   "metadata": {},
   "source": [
    "# 1. Create the below pattern using nested for loop in Python.\n",
    "\n",
    "    *\n",
    "    * *\n",
    "    * * *\n",
    "    * * * *\n",
    "    * * * * *\n",
    "    * * * *\n",
    "    * * *\n",
    "    * *\n",
    "    *"
   ]
  },
  {
   "cell_type": "code",
   "execution_count": 13,
   "id": "b2faf391",
   "metadata": {},
   "outputs": [
    {
     "name": "stdout",
     "output_type": "stream",
     "text": [
      "* \n",
      "* * \n",
      "* * * \n",
      "* * * * \n",
      "* * * * * \n",
      "* * * * \n",
      "* * * \n",
      "* * \n",
      "* \n"
     ]
    }
   ],
   "source": [
    "char = \"* \"\n",
    "for i in range(5):\n",
    "    print(char*(i+1))\n",
    "for j in range(i,0,-1):\n",
    "    print(char*j)"
   ]
  },
  {
   "cell_type": "markdown",
   "id": "8e6c8a94",
   "metadata": {},
   "source": [
    "# 2. Write a Python program to reverse a word after accepting the input from the user."
   ]
  },
  {
   "cell_type": "code",
   "execution_count": 15,
   "id": "84ce6dad",
   "metadata": {},
   "outputs": [
    {
     "name": "stdout",
     "output_type": "stream",
     "text": [
      "Enter a string: ineuron\n",
      "Resulting Reverse of string is: norueni\n"
     ]
    }
   ],
   "source": [
    "string = input(\"Enter a string: \")\n",
    "print(f\"Resulting Reverse of string is: {string[::-1]}\")"
   ]
  }
 ],
 "metadata": {
  "kernelspec": {
   "display_name": "Python 3",
   "language": "python",
   "name": "python3"
  },
  "language_info": {
   "codemirror_mode": {
    "name": "ipython",
    "version": 3
   },
   "file_extension": ".py",
   "mimetype": "text/x-python",
   "name": "python",
   "nbconvert_exporter": "python",
   "pygments_lexer": "ipython3",
   "version": "3.8.8"
  }
 },
 "nbformat": 4,
 "nbformat_minor": 5
}
